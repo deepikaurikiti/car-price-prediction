{
 "cells": [
  {
   "cell_type": "code",
   "execution_count": 2,
   "id": "29a8e01d",
   "metadata": {},
   "outputs": [],
   "source": [
    "#import dependancies\n",
    "import pandas as pd\n",
    "import matplotlib.pyplot as plt\n",
    "import seaborn as sns\n",
    "from sklearn.model_selection import train_test_split\n",
    "from sklearn.linear_model import LinearRegression\n",
    "from sklearn import metrics"
   ]
  },
  {
   "cell_type": "code",
   "execution_count": 3,
   "id": "35f76dfe",
   "metadata": {},
   "outputs": [],
   "source": [
    "#data collection and processing"
   ]
  },
  {
   "cell_type": "code",
   "execution_count": 4,
   "id": "2d867acf",
   "metadata": {},
   "outputs": [],
   "source": [
    "#loading the data from csv file\n",
    "car_data=pd.read_csv('car data.csv')"
   ]
  },
  {
   "cell_type": "code",
   "execution_count": 5,
   "id": "b90e1705",
   "metadata": {},
   "outputs": [
    {
     "data": {
      "text/html": [
       "<div>\n",
       "<style scoped>\n",
       "    .dataframe tbody tr th:only-of-type {\n",
       "        vertical-align: middle;\n",
       "    }\n",
       "\n",
       "    .dataframe tbody tr th {\n",
       "        vertical-align: top;\n",
       "    }\n",
       "\n",
       "    .dataframe thead th {\n",
       "        text-align: right;\n",
       "    }\n",
       "</style>\n",
       "<table border=\"1\" class=\"dataframe\">\n",
       "  <thead>\n",
       "    <tr style=\"text-align: right;\">\n",
       "      <th></th>\n",
       "      <th>Car_Name</th>\n",
       "      <th>Year</th>\n",
       "      <th>Selling_Price</th>\n",
       "      <th>Present_Price</th>\n",
       "      <th>Kms_Driven</th>\n",
       "      <th>Fuel_Type</th>\n",
       "      <th>Seller_Type</th>\n",
       "      <th>Transmission</th>\n",
       "      <th>Owner</th>\n",
       "    </tr>\n",
       "  </thead>\n",
       "  <tbody>\n",
       "    <tr>\n",
       "      <th>0</th>\n",
       "      <td>ritz</td>\n",
       "      <td>2014</td>\n",
       "      <td>3.35</td>\n",
       "      <td>5.59</td>\n",
       "      <td>27000</td>\n",
       "      <td>Petrol</td>\n",
       "      <td>Dealer</td>\n",
       "      <td>Manual</td>\n",
       "      <td>0</td>\n",
       "    </tr>\n",
       "    <tr>\n",
       "      <th>1</th>\n",
       "      <td>sx4</td>\n",
       "      <td>2013</td>\n",
       "      <td>4.75</td>\n",
       "      <td>9.54</td>\n",
       "      <td>43000</td>\n",
       "      <td>Diesel</td>\n",
       "      <td>Dealer</td>\n",
       "      <td>Manual</td>\n",
       "      <td>0</td>\n",
       "    </tr>\n",
       "    <tr>\n",
       "      <th>2</th>\n",
       "      <td>ciaz</td>\n",
       "      <td>2017</td>\n",
       "      <td>7.25</td>\n",
       "      <td>9.85</td>\n",
       "      <td>6900</td>\n",
       "      <td>Petrol</td>\n",
       "      <td>Dealer</td>\n",
       "      <td>Manual</td>\n",
       "      <td>0</td>\n",
       "    </tr>\n",
       "    <tr>\n",
       "      <th>3</th>\n",
       "      <td>wagon r</td>\n",
       "      <td>2011</td>\n",
       "      <td>2.85</td>\n",
       "      <td>4.15</td>\n",
       "      <td>5200</td>\n",
       "      <td>Petrol</td>\n",
       "      <td>Dealer</td>\n",
       "      <td>Manual</td>\n",
       "      <td>0</td>\n",
       "    </tr>\n",
       "    <tr>\n",
       "      <th>4</th>\n",
       "      <td>swift</td>\n",
       "      <td>2014</td>\n",
       "      <td>4.60</td>\n",
       "      <td>6.87</td>\n",
       "      <td>42450</td>\n",
       "      <td>Diesel</td>\n",
       "      <td>Dealer</td>\n",
       "      <td>Manual</td>\n",
       "      <td>0</td>\n",
       "    </tr>\n",
       "  </tbody>\n",
       "</table>\n",
       "</div>"
      ],
      "text/plain": [
       "  Car_Name  Year  Selling_Price  Present_Price  Kms_Driven Fuel_Type  \\\n",
       "0     ritz  2014           3.35           5.59       27000    Petrol   \n",
       "1      sx4  2013           4.75           9.54       43000    Diesel   \n",
       "2     ciaz  2017           7.25           9.85        6900    Petrol   \n",
       "3  wagon r  2011           2.85           4.15        5200    Petrol   \n",
       "4    swift  2014           4.60           6.87       42450    Diesel   \n",
       "\n",
       "  Seller_Type Transmission  Owner  \n",
       "0      Dealer       Manual      0  \n",
       "1      Dealer       Manual      0  \n",
       "2      Dealer       Manual      0  \n",
       "3      Dealer       Manual      0  \n",
       "4      Dealer       Manual      0  "
      ]
     },
     "execution_count": 5,
     "metadata": {},
     "output_type": "execute_result"
    }
   ],
   "source": [
    "#inspecting the first 5 rows\n",
    "car_data.head()"
   ]
  },
  {
   "cell_type": "code",
   "execution_count": 9,
   "id": "9c2e3357",
   "metadata": {},
   "outputs": [
    {
     "data": {
      "text/plain": [
       "(301, 9)"
      ]
     },
     "execution_count": 9,
     "metadata": {},
     "output_type": "execute_result"
    }
   ],
   "source": [
    "#checking the no of rows and columns\n",
    "car_data.shape"
   ]
  },
  {
   "cell_type": "code",
   "execution_count": 10,
   "id": "9cee2013",
   "metadata": {},
   "outputs": [
    {
     "name": "stdout",
     "output_type": "stream",
     "text": [
      "<class 'pandas.core.frame.DataFrame'>\n",
      "RangeIndex: 301 entries, 0 to 300\n",
      "Data columns (total 9 columns):\n",
      " #   Column         Non-Null Count  Dtype  \n",
      "---  ------         --------------  -----  \n",
      " 0   Car_Name       301 non-null    object \n",
      " 1   Year           301 non-null    int64  \n",
      " 2   Selling_Price  301 non-null    float64\n",
      " 3   Present_Price  301 non-null    float64\n",
      " 4   Kms_Driven     301 non-null    int64  \n",
      " 5   Fuel_Type      301 non-null    object \n",
      " 6   Seller_Type    301 non-null    object \n",
      " 7   Transmission   301 non-null    object \n",
      " 8   Owner          301 non-null    int64  \n",
      "dtypes: float64(2), int64(3), object(4)\n",
      "memory usage: 21.3+ KB\n"
     ]
    }
   ],
   "source": [
    "#getting information about data\n",
    "car_data.info()"
   ]
  },
  {
   "cell_type": "code",
   "execution_count": 11,
   "id": "444a7089",
   "metadata": {},
   "outputs": [
    {
     "data": {
      "text/plain": [
       "Car_Name         0\n",
       "Year             0\n",
       "Selling_Price    0\n",
       "Present_Price    0\n",
       "Kms_Driven       0\n",
       "Fuel_Type        0\n",
       "Seller_Type      0\n",
       "Transmission     0\n",
       "Owner            0\n",
       "dtype: int64"
      ]
     },
     "execution_count": 11,
     "metadata": {},
     "output_type": "execute_result"
    }
   ],
   "source": [
    "#checking the no of missing values\n",
    "car_data.isnull().sum()"
   ]
  },
  {
   "cell_type": "code",
   "execution_count": 15,
   "id": "5e554b1a",
   "metadata": {},
   "outputs": [
    {
     "name": "stdout",
     "output_type": "stream",
     "text": [
      "Petrol    239\n",
      "Diesel     60\n",
      "CNG         2\n",
      "Name: Fuel_Type, dtype: int64\n",
      "Dealer        195\n",
      "Individual    106\n",
      "Name: Seller_Type, dtype: int64\n",
      "Manual       261\n",
      "Automatic     40\n",
      "Name: Transmission, dtype: int64\n"
     ]
    }
   ],
   "source": [
    "#checking the distribution of categorical data\n",
    "print(car_data.Fuel_Type.value_counts())\n",
    "print(car_data.Seller_Type.value_counts())\n",
    "print(car_data.Transmission.value_counts())"
   ]
  },
  {
   "cell_type": "code",
   "execution_count": 16,
   "id": "efbc1a5d",
   "metadata": {},
   "outputs": [],
   "source": [
    "#encoding the categorical data"
   ]
  },
  {
   "cell_type": "code",
   "execution_count": 19,
   "id": "8df6a005",
   "metadata": {},
   "outputs": [],
   "source": [
    "#encoding the fuel typ3e column\n",
    "car_data.replace({'Fuel_Type':{'Petrol':0,'Diesel':1,'CNG':2}},inplace=True)\n",
    "\n",
    "#encoding the seller typ3e column\n",
    "car_data.replace({'Seller_Type':{'Dealer':0,'Individual':1}},inplace=True)\n",
    "\n",
    "#encoding the transmission typ3e column\n",
    "car_data.replace({'Transmission':{'Manual':0,'Automatic':1}},inplace=True)"
   ]
  },
  {
   "cell_type": "code",
   "execution_count": 20,
   "id": "97e641ba",
   "metadata": {},
   "outputs": [
    {
     "data": {
      "text/html": [
       "<div>\n",
       "<style scoped>\n",
       "    .dataframe tbody tr th:only-of-type {\n",
       "        vertical-align: middle;\n",
       "    }\n",
       "\n",
       "    .dataframe tbody tr th {\n",
       "        vertical-align: top;\n",
       "    }\n",
       "\n",
       "    .dataframe thead th {\n",
       "        text-align: right;\n",
       "    }\n",
       "</style>\n",
       "<table border=\"1\" class=\"dataframe\">\n",
       "  <thead>\n",
       "    <tr style=\"text-align: right;\">\n",
       "      <th></th>\n",
       "      <th>Car_Name</th>\n",
       "      <th>Year</th>\n",
       "      <th>Selling_Price</th>\n",
       "      <th>Present_Price</th>\n",
       "      <th>Kms_Driven</th>\n",
       "      <th>Fuel_Type</th>\n",
       "      <th>Seller_Type</th>\n",
       "      <th>Transmission</th>\n",
       "      <th>Owner</th>\n",
       "    </tr>\n",
       "  </thead>\n",
       "  <tbody>\n",
       "    <tr>\n",
       "      <th>0</th>\n",
       "      <td>ritz</td>\n",
       "      <td>2014</td>\n",
       "      <td>3.35</td>\n",
       "      <td>5.59</td>\n",
       "      <td>27000</td>\n",
       "      <td>0</td>\n",
       "      <td>0</td>\n",
       "      <td>0</td>\n",
       "      <td>0</td>\n",
       "    </tr>\n",
       "    <tr>\n",
       "      <th>1</th>\n",
       "      <td>sx4</td>\n",
       "      <td>2013</td>\n",
       "      <td>4.75</td>\n",
       "      <td>9.54</td>\n",
       "      <td>43000</td>\n",
       "      <td>1</td>\n",
       "      <td>0</td>\n",
       "      <td>0</td>\n",
       "      <td>0</td>\n",
       "    </tr>\n",
       "    <tr>\n",
       "      <th>2</th>\n",
       "      <td>ciaz</td>\n",
       "      <td>2017</td>\n",
       "      <td>7.25</td>\n",
       "      <td>9.85</td>\n",
       "      <td>6900</td>\n",
       "      <td>0</td>\n",
       "      <td>0</td>\n",
       "      <td>0</td>\n",
       "      <td>0</td>\n",
       "    </tr>\n",
       "    <tr>\n",
       "      <th>3</th>\n",
       "      <td>wagon r</td>\n",
       "      <td>2011</td>\n",
       "      <td>2.85</td>\n",
       "      <td>4.15</td>\n",
       "      <td>5200</td>\n",
       "      <td>0</td>\n",
       "      <td>0</td>\n",
       "      <td>0</td>\n",
       "      <td>0</td>\n",
       "    </tr>\n",
       "    <tr>\n",
       "      <th>4</th>\n",
       "      <td>swift</td>\n",
       "      <td>2014</td>\n",
       "      <td>4.60</td>\n",
       "      <td>6.87</td>\n",
       "      <td>42450</td>\n",
       "      <td>1</td>\n",
       "      <td>0</td>\n",
       "      <td>0</td>\n",
       "      <td>0</td>\n",
       "    </tr>\n",
       "  </tbody>\n",
       "</table>\n",
       "</div>"
      ],
      "text/plain": [
       "  Car_Name  Year  Selling_Price  Present_Price  Kms_Driven  Fuel_Type  \\\n",
       "0     ritz  2014           3.35           5.59       27000          0   \n",
       "1      sx4  2013           4.75           9.54       43000          1   \n",
       "2     ciaz  2017           7.25           9.85        6900          0   \n",
       "3  wagon r  2011           2.85           4.15        5200          0   \n",
       "4    swift  2014           4.60           6.87       42450          1   \n",
       "\n",
       "   Seller_Type  Transmission  Owner  \n",
       "0            0             0      0  \n",
       "1            0             0      0  \n",
       "2            0             0      0  \n",
       "3            0             0      0  \n",
       "4            0             0      0  "
      ]
     },
     "execution_count": 20,
     "metadata": {},
     "output_type": "execute_result"
    }
   ],
   "source": [
    "car_data.head()"
   ]
  },
  {
   "cell_type": "code",
   "execution_count": 22,
   "id": "82792ff1",
   "metadata": {},
   "outputs": [],
   "source": [
    "#splitting the data into training data and test data\n",
    "X=car_data.drop(['Car_Name','Selling_Price'],axis=1)\n",
    "Y=car_data['Selling_Price']"
   ]
  },
  {
   "cell_type": "code",
   "execution_count": 23,
   "id": "41929022",
   "metadata": {},
   "outputs": [
    {
     "name": "stdout",
     "output_type": "stream",
     "text": [
      "     Year  Present_Price  Kms_Driven  Fuel_Type  Seller_Type  Transmission  \\\n",
      "0    2014           5.59       27000          0            0             0   \n",
      "1    2013           9.54       43000          1            0             0   \n",
      "2    2017           9.85        6900          0            0             0   \n",
      "3    2011           4.15        5200          0            0             0   \n",
      "4    2014           6.87       42450          1            0             0   \n",
      "..    ...            ...         ...        ...          ...           ...   \n",
      "296  2016          11.60       33988          1            0             0   \n",
      "297  2015           5.90       60000          0            0             0   \n",
      "298  2009          11.00       87934          0            0             0   \n",
      "299  2017          12.50        9000          1            0             0   \n",
      "300  2016           5.90        5464          0            0             0   \n",
      "\n",
      "     Owner  \n",
      "0        0  \n",
      "1        0  \n",
      "2        0  \n",
      "3        0  \n",
      "4        0  \n",
      "..     ...  \n",
      "296      0  \n",
      "297      0  \n",
      "298      0  \n",
      "299      0  \n",
      "300      0  \n",
      "\n",
      "[301 rows x 7 columns]\n"
     ]
    }
   ],
   "source": [
    "print(X)"
   ]
  },
  {
   "cell_type": "code",
   "execution_count": 24,
   "id": "fd3abb93",
   "metadata": {},
   "outputs": [
    {
     "name": "stdout",
     "output_type": "stream",
     "text": [
      "0       3.35\n",
      "1       4.75\n",
      "2       7.25\n",
      "3       2.85\n",
      "4       4.60\n",
      "       ...  \n",
      "296     9.50\n",
      "297     4.00\n",
      "298     3.35\n",
      "299    11.50\n",
      "300     5.30\n",
      "Name: Selling_Price, Length: 301, dtype: float64\n"
     ]
    }
   ],
   "source": [
    "print(Y)"
   ]
  },
  {
   "cell_type": "code",
   "execution_count": 25,
   "id": "fa18b927",
   "metadata": {},
   "outputs": [],
   "source": [
    "#splitting the data"
   ]
  },
  {
   "cell_type": "code",
   "execution_count": 26,
   "id": "9af24bad",
   "metadata": {},
   "outputs": [],
   "source": [
    "X_train,X_test,Y_train,Y_test=train_test_split(X,Y,test_size=0.1,random_state=2)"
   ]
  },
  {
   "cell_type": "code",
   "execution_count": 27,
   "id": "b89e9705",
   "metadata": {},
   "outputs": [],
   "source": [
    "#train the model"
   ]
  },
  {
   "cell_type": "code",
   "execution_count": 28,
   "id": "f4c1d400",
   "metadata": {},
   "outputs": [],
   "source": [
    "#linear regression model\n",
    "#loading the linear regression model\n",
    "lin_reg_model=LinearRegression()"
   ]
  },
  {
   "cell_type": "code",
   "execution_count": 29,
   "id": "54a1b47a",
   "metadata": {},
   "outputs": [
    {
     "data": {
      "text/plain": [
       "LinearRegression()"
      ]
     },
     "execution_count": 29,
     "metadata": {},
     "output_type": "execute_result"
    }
   ],
   "source": [
    "lin_reg_model.fit(X_train,Y_train)"
   ]
  },
  {
   "cell_type": "code",
   "execution_count": 30,
   "id": "84b8f41b",
   "metadata": {},
   "outputs": [],
   "source": [
    "#prediction on training data\n",
    "training_data_prediction=lin_reg_model.predict(X_train)"
   ]
  },
  {
   "cell_type": "code",
   "execution_count": 31,
   "id": "bec97c3a",
   "metadata": {},
   "outputs": [
    {
     "name": "stdout",
     "output_type": "stream",
     "text": [
      "R squared Error 0.8799451660493716\n"
     ]
    }
   ],
   "source": [
    "#R squared error\n",
    "error_score=metrics.r2_score(Y_train,training_data_prediction)\n",
    "print('R squared Error',error_score)"
   ]
  },
  {
   "cell_type": "code",
   "execution_count": 32,
   "id": "208f0fc3",
   "metadata": {},
   "outputs": [
    {
     "data": {
      "image/png": "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\n",
      "text/plain": [
       "<Figure size 432x288 with 1 Axes>"
      ]
     },
     "metadata": {
      "needs_background": "light"
     },
     "output_type": "display_data"
    }
   ],
   "source": [
    "#visualize the actual price and predicted price\n",
    "plt.scatter(Y_train,training_data_prediction)\n",
    "plt.show()"
   ]
  },
  {
   "cell_type": "code",
   "execution_count": 36,
   "id": "cecfc3b9",
   "metadata": {},
   "outputs": [],
   "source": [
    "#prediction on testing data\n",
    "test_data_prediction=lin_reg_model.predict(X_test)"
   ]
  },
  {
   "cell_type": "code",
   "execution_count": 37,
   "id": "e93d048a",
   "metadata": {},
   "outputs": [
    {
     "name": "stdout",
     "output_type": "stream",
     "text": [
      "R squared Error 0.836576671502587\n"
     ]
    }
   ],
   "source": [
    "#R squared error\n",
    "error_scores=metrics.r2_score(Y_test,test_data_prediction)\n",
    "print('R squared Error',error_scores)"
   ]
  },
  {
   "cell_type": "code",
   "execution_count": 38,
   "id": "1f814e29",
   "metadata": {},
   "outputs": [
    {
     "data": {
      "image/png": "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\n",
      "text/plain": [
       "<Figure size 432x288 with 1 Axes>"
      ]
     },
     "metadata": {
      "needs_background": "light"
     },
     "output_type": "display_data"
    }
   ],
   "source": [
    "#visualize the actual price and predicted price\n",
    "plt.scatter(Y_test,test_data_prediction)\n",
    "plt.show()"
   ]
  },
  {
   "cell_type": "code",
   "execution_count": null,
   "id": "fe8688fa",
   "metadata": {},
   "outputs": [],
   "source": [
    "#lasso regression\n",
	   "from sklearn import metrics\n"
	   "print(metrics.accuracy_score(Y_test,test_data_prediction))"
   ]
  }
 ],
 "metadata": {
  "kernelspec": {
   "display_name": "Python 3 (ipykernel)",
   "language": "python",
   "name": "python3"
  },
  "language_info": {
   "codemirror_mode": {
    "name": "ipython",
    "version": 3
   },
   "file_extension": ".py",
   "mimetype": "text/x-python",
   "name": "python",
   "nbconvert_exporter": "python",
   "pygments_lexer": "ipython3",
   "version": "3.9.12"
  }
 },
 "nbformat": 4,
 "nbformat_minor": 5
}
